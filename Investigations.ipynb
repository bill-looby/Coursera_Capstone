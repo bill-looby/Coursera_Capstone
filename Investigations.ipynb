{
 "cells": [
  {
   "cell_type": "markdown",
   "metadata": {},
   "source": [
    "# Landmark analysis\n",
    "\n",
    "Investigate the role socio-economic factors have in the development of areas around Eurpoean Landmarks, by looking at their effects on landmark clustering.\n",
    "\n",
    "Quickly assess the degree to which landmark popularity is independent of socio-economic factors. If determined to be independent, then this in turn can be used to maximise investment in areas in high return (high price/popularity) and low cost (low cost of living indicators) \n",
    "\n",
    "Cluster initially only by the price and rating of venues in close proximity to the Landmark. Add in socio-economic factors and cluster again, visually comparing the results.\n",
    "\n",
    "## Load the landmarks\n",
    "\n",
    "First load the local Landmarks csv file that we've created and view"
   ]
  },
  {
   "cell_type": "code",
   "execution_count": 40,
   "metadata": {},
   "outputs": [
    {
     "data": {
      "text/html": [
       "<div>\n",
       "<style scoped>\n",
       "    .dataframe tbody tr th:only-of-type {\n",
       "        vertical-align: middle;\n",
       "    }\n",
       "\n",
       "    .dataframe tbody tr th {\n",
       "        vertical-align: top;\n",
       "    }\n",
       "\n",
       "    .dataframe thead th {\n",
       "        text-align: right;\n",
       "    }\n",
       "</style>\n",
       "<table border=\"1\" class=\"dataframe\">\n",
       "  <thead>\n",
       "    <tr style=\"text-align: right;\">\n",
       "      <th></th>\n",
       "      <th>Landmark</th>\n",
       "      <th>City</th>\n",
       "      <th>Country</th>\n",
       "      <th>Latitude</th>\n",
       "      <th>Longitude</th>\n",
       "    </tr>\n",
       "  </thead>\n",
       "  <tbody>\n",
       "    <tr>\n",
       "      <th>0</th>\n",
       "      <td>Colosseum</td>\n",
       "      <td>Rome</td>\n",
       "      <td>Italy</td>\n",
       "      <td>41.8902</td>\n",
       "      <td>12.4922</td>\n",
       "    </tr>\n",
       "    <tr>\n",
       "      <th>1</th>\n",
       "      <td>Eiffel Tower</td>\n",
       "      <td>Paris</td>\n",
       "      <td>France</td>\n",
       "      <td>48.8584</td>\n",
       "      <td>2.2945</td>\n",
       "    </tr>\n",
       "    <tr>\n",
       "      <th>2</th>\n",
       "      <td>Sagrada Familia</td>\n",
       "      <td>Barcelona</td>\n",
       "      <td>Spain</td>\n",
       "      <td>41.4036</td>\n",
       "      <td>2.1744</td>\n",
       "    </tr>\n",
       "    <tr>\n",
       "      <th>3</th>\n",
       "      <td>The Church of Hallgrimur</td>\n",
       "      <td>Reykjavik</td>\n",
       "      <td>Iceland</td>\n",
       "      <td>64.1417</td>\n",
       "      <td>-21.9266</td>\n",
       "    </tr>\n",
       "    <tr>\n",
       "      <th>4</th>\n",
       "      <td>Leaning Tower of Pisa</td>\n",
       "      <td>Pisa</td>\n",
       "      <td>Italy</td>\n",
       "      <td>43.7230</td>\n",
       "      <td>10.3966</td>\n",
       "    </tr>\n",
       "  </tbody>\n",
       "</table>\n",
       "</div>"
      ],
      "text/plain": [
       "                   Landmark       City  Country  Latitude  Longitude\n",
       "0                 Colosseum       Rome    Italy   41.8902    12.4922\n",
       "1              Eiffel Tower      Paris   France   48.8584     2.2945\n",
       "2           Sagrada Familia  Barcelona    Spain   41.4036     2.1744\n",
       "3  The Church of Hallgrimur  Reykjavik  Iceland   64.1417   -21.9266\n",
       "4     Leaning Tower of Pisa       Pisa    Italy   43.7230    10.3966"
      ]
     },
     "execution_count": 40,
     "metadata": {},
     "output_type": "execute_result"
    }
   ],
   "source": [
    "import pandas as pd\n",
    "df_landmarks = pd.read_csv('Landmarks.csv')\n",
    "df_landmarks.head()"
   ]
  },
  {
   "cell_type": "markdown",
   "metadata": {},
   "source": [
    "## Now load information regarding the landmarks from FourSquare\n",
    "\n",
    "We get the venues within 500m of each landmark, then we look at the price and popularity of these venues. We use a number of methods to help us achieve this, so lets declare them first"
   ]
  },
  {
   "cell_type": "markdown",
   "metadata": {},
   "source": [
    "### Method to retrieve Foursquare feeds via a local cache\n",
    "All FourSquare APIs will go through this. We are not time sensitive, so the retrieved API requests can be cached for future use to prevent us going over the limit of FourSquare API throttling. This is especially important as -\n",
    "\n",
    "1. We want to make a lot of API calls (to get averages)\n",
    "2. We need to be able to repeat calls when testing\n",
    "\n",
    "To make matters worse, the price and rating information requires a 'premium' call (restricted to 50 API calls per day for a sandbox account), so we may also need to restrict the number of Landmarks being considered in this study."
   ]
  },
  {
   "cell_type": "code",
   "execution_count": 72,
   "metadata": {},
   "outputs": [],
   "source": [
    "import requests\n",
    "from pandas.io.json import json_normalize\n",
    "\n",
    "CLIENT_ID = 'LKJ2HMDVO3MXO2MPSE5QO5R2HPLONX0YHRT4J23I3QCMKCXW' # your Foursquare ID\n",
    "CLIENT_SECRET = 'VVQRKXFSIUI4TD15OFEDPI3VKJX5OFBGKWKBMUHG245GNWT4' # your Foursquare Secret\n",
    "VERSION = '20180605' # Foursquare API version"
   ]
  },
  {
   "cell_type": "code",
   "execution_count": 86,
   "metadata": {},
   "outputs": [],
   "source": [
    "import json\n",
    "from pathlib import Path\n",
    "\n",
    "def get_venues_close(lat, long, section):\n",
    "    vurl = 'https://api.foursquare.com/v2/venues/explore?&ll={},{}&section={}radius={}&limit={}&'.format(\n",
    "        lat, \n",
    "        long, \n",
    "        section,\n",
    "        500, \n",
    "        100) # yes the '&' is ugly but it saves us a four line if !\n",
    "    vpath = Path('ResponseCache/Explore.{}.{}.{}.json'.format(lat,long,section))\n",
    "    return get_cached_call(vpath, vurl)\n",
    "\n",
    "def get_venue_details(venueid):\n",
    "    vurl = 'https://api.foursquare.com/v2/venues/{}?'.format(venueid) # yes the '?' is ugly but it saves us a four line if !\n",
    "    vpath = Path('ResponseCache/Venue.{}.json'.format(venueid))\n",
    "    return get_cached_call(vpath, vurl)\n",
    "    \n",
    "def get_cached_call(json_path, api_url):\n",
    "    if json_path.exists():\n",
    "        #print('From Cache')\n",
    "        f = open(json_path, \"r\")\n",
    "        results = json.load(f);\n",
    "    else:\n",
    "        #print('From API')\n",
    "        url = api_url+'client_id={}&client_secret={}&v={}'.format(\n",
    "            CLIENT_ID, \n",
    "            CLIENT_SECRET, \n",
    "            VERSION)\n",
    "        results = requests.get(url).json()\n",
    "        if results['root']['meta']['code']==200:\n",
    "            f = open(json_path, \"w\")\n",
    "            json.dump(results,f)\n",
    "    \n",
    "    return results"
   ]
  },
  {
   "cell_type": "markdown",
   "metadata": {},
   "source": [
    "### Method to determine if a row retrieved represents a restaurant\n",
    "This method is a simple check for the presence of the Restaurant Category"
   ]
  },
  {
   "cell_type": "code",
   "execution_count": 74,
   "metadata": {},
   "outputs": [],
   "source": [
    "# function that validates the presence of the category 'Restaurant'\n",
    "def is_restaurant(row):\n",
    "    try:\n",
    "        categories_list = row['categories']\n",
    "    except:\n",
    "        categories_list = row['venue.categories']\n",
    "    \n",
    "    size = len(categories_list)\n",
    "    if size == 0:\n",
    "        return False\n",
    "\n",
    "    hasCategory = False\n",
    "    for category in categories_list:\n",
    "        if 'Restaurant' in categories_list[0]['name']: # == not sufficient as ethnic restaurant include the type\n",
    "            hasCategory = True\n",
    "    \n",
    "    return hasCategory"
   ]
  },
  {
   "cell_type": "markdown",
   "metadata": {},
   "source": [
    "### Method to extract only rows corresponding to restaurants from an /explore query\n",
    "We create a method that will filter the rows found to only those that are Restaurants as we want to compare restaurant prices and ratings as the primary clustering criteria, and food includes many more categories. Also, as we will be doing individual queries on all, we will only need the id column (but include name for clarity)"
   ]
  },
  {
   "cell_type": "code",
   "execution_count": 75,
   "metadata": {},
   "outputs": [],
   "source": [
    "def get_restaurant_ids(results):\n",
    "    venues = results['response']['groups'][0]['items']\n",
    "    df_venues = json_normalize(venues) # Gives a huge number of columns\n",
    "\n",
    "    # Now pick out the columns we're interested in and filter to restaurants ('food' category alone doesn't do this)\n",
    "    filtered_columns = ['venue.name', 'venue.id', 'venue.categories']\n",
    "    df_venues = df_venues.loc[:, filtered_columns]\n",
    "    return df_venues[df_venues.apply(is_restaurant, axis=1)]"
   ]
  },
  {
   "cell_type": "markdown",
   "metadata": {},
   "source": [
    "### Method to get the price and rating for any given venue\n",
    "First we define the FourSquare access details in an individual cell (we won't need to repeat any of this when testing). After that we create two methods for use later.\n",
    "- Given a venue id, the price (unavailable from the FourSquare API) and rating are returned using the venue API\n",
    "- Given a Series of venue ids, the average of the price and ratings are returned"
   ]
  },
  {
   "cell_type": "code",
   "execution_count": 76,
   "metadata": {},
   "outputs": [],
   "source": [
    "def get_venue_price_and_rating(venueid):\n",
    "    results = get_venue_details(venueid)\n",
    "    try :\n",
    "        return results['response']['venue']['price']['tier'], results['response']['venue']['rating']\n",
    "    except:\n",
    "        return None, None # ignore poorly formatted results, and ensure mean generation will skip\n",
    "\n",
    "def get_average_price_and_rating(s_venueids):\n",
    "    data = [[0 for x in range(2)] for y in range(s_venueids.size)]\n",
    "    for idx, venueid in enumerate(s_venueids):\n",
    "        price,rating = get_venue_price_and_rating(venueid)\n",
    "        data[idx][0] = price\n",
    "        data[idx][1] = rating\n",
    "    df = pd.DataFrame(data, columns=['Price','Rating'])\n",
    "    return df['Price'].mean(skipna=True), df['Rating'].mean(skipna=True)"
   ]
  },
  {
   "cell_type": "code",
   "execution_count": 77,
   "metadata": {},
   "outputs": [
    {
     "data": {
      "text/plain": [
       "(2.9473684210526314, 8.147368421052633)"
      ]
     },
     "execution_count": 77,
     "metadata": {},
     "output_type": "execute_result"
    }
   ],
   "source": [
    "#TEST CODE based on the Coloseum  - DO NOT RUN !!!!!!!!\n",
    "results = get_venues_close('41.8902','12.4922','food')\n",
    "restaurants = get_restaurant_ids(results)\n",
    "rids = restaurants['venue.id']\n",
    "results = get_venue_details(rids[6]);\n",
    "\n",
    "avgp, avgr = get_average_price_and_rating(rids)\n",
    "avgp, avgr"
   ]
  },
  {
   "cell_type": "markdown",
   "metadata": {},
   "source": [
    "### Now iterate through the landmarks\n",
    "For each landmark we get the restaurants and then find the rating for each"
   ]
  },
  {
   "cell_type": "code",
   "execution_count": 87,
   "metadata": {},
   "outputs": [
    {
     "name": "stdout",
     "output_type": "stream",
     "text": [
      "Colosseum\n",
      "Eiffel Tower\n"
     ]
    },
    {
     "ename": "KeyError",
     "evalue": "'root'",
     "output_type": "error",
     "traceback": [
      "\u001b[0;31m---------------------------------------------------------------------------\u001b[0m",
      "\u001b[0;31mKeyError\u001b[0m                                  Traceback (most recent call last)",
      "\u001b[0;32m<ipython-input-87-7d7dccb32885>\u001b[0m in \u001b[0;36m<module>\u001b[0;34m()\u001b[0m\n\u001b[1;32m     10\u001b[0m     \u001b[0mdf_restaurants\u001b[0m \u001b[0;34m=\u001b[0m \u001b[0mget_restaurant_ids\u001b[0m\u001b[0;34m(\u001b[0m\u001b[0mresults\u001b[0m\u001b[0;34m)\u001b[0m\u001b[0;34m\u001b[0m\u001b[0m\n\u001b[1;32m     11\u001b[0m     \u001b[0mrids\u001b[0m \u001b[0;34m=\u001b[0m \u001b[0mdf_restaurants\u001b[0m\u001b[0;34m[\u001b[0m\u001b[0;34m'venue.id'\u001b[0m\u001b[0;34m]\u001b[0m\u001b[0;34m\u001b[0m\u001b[0m\n\u001b[0;32m---> 12\u001b[0;31m     \u001b[0mavgp\u001b[0m\u001b[0;34m,\u001b[0m \u001b[0mavgr\u001b[0m \u001b[0;34m=\u001b[0m \u001b[0mget_average_price_and_rating\u001b[0m\u001b[0;34m(\u001b[0m\u001b[0mrids\u001b[0m\u001b[0;34m)\u001b[0m\u001b[0;34m\u001b[0m\u001b[0m\n\u001b[0m\u001b[1;32m     13\u001b[0m     \u001b[0mprices\u001b[0m\u001b[0;34m.\u001b[0m\u001b[0mappend\u001b[0m\u001b[0;34m(\u001b[0m\u001b[0mavgp\u001b[0m\u001b[0;34m)\u001b[0m\u001b[0;34m\u001b[0m\u001b[0m\n\u001b[1;32m     14\u001b[0m     \u001b[0mratings\u001b[0m\u001b[0;34m.\u001b[0m\u001b[0mappend\u001b[0m\u001b[0;34m(\u001b[0m\u001b[0mavgr\u001b[0m\u001b[0;34m)\u001b[0m\u001b[0;34m\u001b[0m\u001b[0m\n",
      "\u001b[0;32m<ipython-input-76-a6ae2dbea9dd>\u001b[0m in \u001b[0;36mget_average_price_and_rating\u001b[0;34m(s_venueids)\u001b[0m\n\u001b[1;32m      9\u001b[0m     \u001b[0mdata\u001b[0m \u001b[0;34m=\u001b[0m \u001b[0;34m[\u001b[0m\u001b[0;34m[\u001b[0m\u001b[0;36m0\u001b[0m \u001b[0;32mfor\u001b[0m \u001b[0mx\u001b[0m \u001b[0;32min\u001b[0m \u001b[0mrange\u001b[0m\u001b[0;34m(\u001b[0m\u001b[0;36m2\u001b[0m\u001b[0;34m)\u001b[0m\u001b[0;34m]\u001b[0m \u001b[0;32mfor\u001b[0m \u001b[0my\u001b[0m \u001b[0;32min\u001b[0m \u001b[0mrange\u001b[0m\u001b[0;34m(\u001b[0m\u001b[0ms_venueids\u001b[0m\u001b[0;34m.\u001b[0m\u001b[0msize\u001b[0m\u001b[0;34m)\u001b[0m\u001b[0;34m]\u001b[0m\u001b[0;34m\u001b[0m\u001b[0m\n\u001b[1;32m     10\u001b[0m     \u001b[0;32mfor\u001b[0m \u001b[0midx\u001b[0m\u001b[0;34m,\u001b[0m \u001b[0mvenueid\u001b[0m \u001b[0;32min\u001b[0m \u001b[0menumerate\u001b[0m\u001b[0;34m(\u001b[0m\u001b[0ms_venueids\u001b[0m\u001b[0;34m)\u001b[0m\u001b[0;34m:\u001b[0m\u001b[0;34m\u001b[0m\u001b[0m\n\u001b[0;32m---> 11\u001b[0;31m         \u001b[0mprice\u001b[0m\u001b[0;34m,\u001b[0m\u001b[0mrating\u001b[0m \u001b[0;34m=\u001b[0m \u001b[0mget_venue_price_and_rating\u001b[0m\u001b[0;34m(\u001b[0m\u001b[0mvenueid\u001b[0m\u001b[0;34m)\u001b[0m\u001b[0;34m\u001b[0m\u001b[0m\n\u001b[0m\u001b[1;32m     12\u001b[0m         \u001b[0mdata\u001b[0m\u001b[0;34m[\u001b[0m\u001b[0midx\u001b[0m\u001b[0;34m]\u001b[0m\u001b[0;34m[\u001b[0m\u001b[0;36m0\u001b[0m\u001b[0;34m]\u001b[0m \u001b[0;34m=\u001b[0m \u001b[0mprice\u001b[0m\u001b[0;34m\u001b[0m\u001b[0m\n\u001b[1;32m     13\u001b[0m         \u001b[0mdata\u001b[0m\u001b[0;34m[\u001b[0m\u001b[0midx\u001b[0m\u001b[0;34m]\u001b[0m\u001b[0;34m[\u001b[0m\u001b[0;36m1\u001b[0m\u001b[0;34m]\u001b[0m \u001b[0;34m=\u001b[0m \u001b[0mrating\u001b[0m\u001b[0;34m\u001b[0m\u001b[0m\n",
      "\u001b[0;32m<ipython-input-76-a6ae2dbea9dd>\u001b[0m in \u001b[0;36mget_venue_price_and_rating\u001b[0;34m(venueid)\u001b[0m\n\u001b[1;32m      1\u001b[0m \u001b[0;32mdef\u001b[0m \u001b[0mget_venue_price_and_rating\u001b[0m\u001b[0;34m(\u001b[0m\u001b[0mvenueid\u001b[0m\u001b[0;34m)\u001b[0m\u001b[0;34m:\u001b[0m\u001b[0;34m\u001b[0m\u001b[0m\n\u001b[0;32m----> 2\u001b[0;31m     \u001b[0mresults\u001b[0m \u001b[0;34m=\u001b[0m \u001b[0mget_venue_details\u001b[0m\u001b[0;34m(\u001b[0m\u001b[0mvenueid\u001b[0m\u001b[0;34m)\u001b[0m\u001b[0;34m\u001b[0m\u001b[0m\n\u001b[0m\u001b[1;32m      3\u001b[0m     \u001b[0;32mtry\u001b[0m \u001b[0;34m:\u001b[0m\u001b[0;34m\u001b[0m\u001b[0m\n\u001b[1;32m      4\u001b[0m         \u001b[0;32mreturn\u001b[0m \u001b[0mresults\u001b[0m\u001b[0;34m[\u001b[0m\u001b[0;34m'response'\u001b[0m\u001b[0;34m]\u001b[0m\u001b[0;34m[\u001b[0m\u001b[0;34m'venue'\u001b[0m\u001b[0;34m]\u001b[0m\u001b[0;34m[\u001b[0m\u001b[0;34m'price'\u001b[0m\u001b[0;34m]\u001b[0m\u001b[0;34m[\u001b[0m\u001b[0;34m'tier'\u001b[0m\u001b[0;34m]\u001b[0m\u001b[0;34m,\u001b[0m \u001b[0mresults\u001b[0m\u001b[0;34m[\u001b[0m\u001b[0;34m'response'\u001b[0m\u001b[0;34m]\u001b[0m\u001b[0;34m[\u001b[0m\u001b[0;34m'venue'\u001b[0m\u001b[0;34m]\u001b[0m\u001b[0;34m[\u001b[0m\u001b[0;34m'rating'\u001b[0m\u001b[0;34m]\u001b[0m\u001b[0;34m\u001b[0m\u001b[0m\n\u001b[1;32m      5\u001b[0m     \u001b[0;32mexcept\u001b[0m\u001b[0;34m:\u001b[0m\u001b[0;34m\u001b[0m\u001b[0m\n",
      "\u001b[0;32m<ipython-input-86-bf0acd158e48>\u001b[0m in \u001b[0;36mget_venue_details\u001b[0;34m(venueid)\u001b[0m\n\u001b[1;32m     15\u001b[0m     \u001b[0mvurl\u001b[0m \u001b[0;34m=\u001b[0m \u001b[0;34m'https://api.foursquare.com/v2/venues/{}?'\u001b[0m\u001b[0;34m.\u001b[0m\u001b[0mformat\u001b[0m\u001b[0;34m(\u001b[0m\u001b[0mvenueid\u001b[0m\u001b[0;34m)\u001b[0m \u001b[0;31m# yes the '?' is ugly but it saves us a four line if !\u001b[0m\u001b[0;34m\u001b[0m\u001b[0m\n\u001b[1;32m     16\u001b[0m     \u001b[0mvpath\u001b[0m \u001b[0;34m=\u001b[0m \u001b[0mPath\u001b[0m\u001b[0;34m(\u001b[0m\u001b[0;34m'ResponseCache/Venue.{}.json'\u001b[0m\u001b[0;34m.\u001b[0m\u001b[0mformat\u001b[0m\u001b[0;34m(\u001b[0m\u001b[0mvenueid\u001b[0m\u001b[0;34m)\u001b[0m\u001b[0;34m)\u001b[0m\u001b[0;34m\u001b[0m\u001b[0m\n\u001b[0;32m---> 17\u001b[0;31m     \u001b[0;32mreturn\u001b[0m \u001b[0mget_cached_call\u001b[0m\u001b[0;34m(\u001b[0m\u001b[0mvpath\u001b[0m\u001b[0;34m,\u001b[0m \u001b[0mvurl\u001b[0m\u001b[0;34m)\u001b[0m\u001b[0;34m\u001b[0m\u001b[0m\n\u001b[0m\u001b[1;32m     18\u001b[0m \u001b[0;34m\u001b[0m\u001b[0m\n\u001b[1;32m     19\u001b[0m \u001b[0;32mdef\u001b[0m \u001b[0mget_cached_call\u001b[0m\u001b[0;34m(\u001b[0m\u001b[0mjson_path\u001b[0m\u001b[0;34m,\u001b[0m \u001b[0mapi_url\u001b[0m\u001b[0;34m)\u001b[0m\u001b[0;34m:\u001b[0m\u001b[0;34m\u001b[0m\u001b[0m\n",
      "\u001b[0;32m<ipython-input-86-bf0acd158e48>\u001b[0m in \u001b[0;36mget_cached_call\u001b[0;34m(json_path, api_url)\u001b[0m\n\u001b[1;32m     29\u001b[0m             VERSION)\n\u001b[1;32m     30\u001b[0m         \u001b[0mresults\u001b[0m \u001b[0;34m=\u001b[0m \u001b[0mrequests\u001b[0m\u001b[0;34m.\u001b[0m\u001b[0mget\u001b[0m\u001b[0;34m(\u001b[0m\u001b[0murl\u001b[0m\u001b[0;34m)\u001b[0m\u001b[0;34m.\u001b[0m\u001b[0mjson\u001b[0m\u001b[0;34m(\u001b[0m\u001b[0;34m)\u001b[0m\u001b[0;34m\u001b[0m\u001b[0m\n\u001b[0;32m---> 31\u001b[0;31m         \u001b[0;32mif\u001b[0m \u001b[0mresults\u001b[0m\u001b[0;34m[\u001b[0m\u001b[0;34m'root'\u001b[0m\u001b[0;34m]\u001b[0m\u001b[0;34m[\u001b[0m\u001b[0;34m'meta'\u001b[0m\u001b[0;34m]\u001b[0m\u001b[0;34m[\u001b[0m\u001b[0;34m'code'\u001b[0m\u001b[0;34m]\u001b[0m\u001b[0;34m==\u001b[0m\u001b[0;36m200\u001b[0m\u001b[0;34m:\u001b[0m\u001b[0;34m\u001b[0m\u001b[0m\n\u001b[0m\u001b[1;32m     32\u001b[0m             \u001b[0mf\u001b[0m \u001b[0;34m=\u001b[0m \u001b[0mopen\u001b[0m\u001b[0;34m(\u001b[0m\u001b[0mjson_path\u001b[0m\u001b[0;34m,\u001b[0m \u001b[0;34m\"w\"\u001b[0m\u001b[0;34m)\u001b[0m\u001b[0;34m\u001b[0m\u001b[0m\n\u001b[1;32m     33\u001b[0m             \u001b[0mjson\u001b[0m\u001b[0;34m.\u001b[0m\u001b[0mdump\u001b[0m\u001b[0;34m(\u001b[0m\u001b[0mresults\u001b[0m\u001b[0;34m,\u001b[0m\u001b[0mf\u001b[0m\u001b[0;34m)\u001b[0m\u001b[0;34m\u001b[0m\u001b[0m\n",
      "\u001b[0;31mKeyError\u001b[0m: 'root'"
     ]
    }
   ],
   "source": [
    "section='food'\n",
    "prices = []\n",
    "ratings = []\n",
    "\n",
    "dfl = df_landmarks.head(3)\n",
    "\n",
    "for index, row in dfl.iterrows():\n",
    "    print(row[0]) # as this takes a while to run - need feedback\n",
    "    results = get_venues_close(row[3],row[4],'food')\n",
    "    df_restaurants = get_restaurant_ids(results)\n",
    "    rids = df_restaurants['venue.id']\n",
    "    avgp, avgr = get_average_price_and_rating(rids)\n",
    "    prices.append(avgp)\n",
    "    ratings.append(avgr)\n",
    "\n",
    "dfl = dfl.assign(Prices=pd.Series(prices))\n",
    "dfl = dfl.assign(Ratings=pd.Series(ratings))\n",
    "dfl.head()"
   ]
  },
  {
   "cell_type": "markdown",
   "metadata": {},
   "source": [
    "## Load the City Statistics\n",
    "\n",
    "Numbeo offer free visual data, but charge for their API, so data has instead been copied and downloaded to files locally. Here we look at two data sets that are of particular interest and normalize the city names (removing the country) in order to match the City names used above. The two Files are -\n",
    "- `CitySalaries.csv` which offers the monthly salary per city\n",
    "- `CityCostOfLiving.csv` this offers a number of statistics such as restaurant prices and rent\n"
   ]
  },
  {
   "cell_type": "code",
   "execution_count": 23,
   "metadata": {},
   "outputs": [
    {
     "data": {
      "text/html": [
       "<div>\n",
       "<style scoped>\n",
       "    .dataframe tbody tr th:only-of-type {\n",
       "        vertical-align: middle;\n",
       "    }\n",
       "\n",
       "    .dataframe tbody tr th {\n",
       "        vertical-align: top;\n",
       "    }\n",
       "\n",
       "    .dataframe thead th {\n",
       "        text-align: right;\n",
       "    }\n",
       "</style>\n",
       "<table border=\"1\" class=\"dataframe\">\n",
       "  <thead>\n",
       "    <tr style=\"text-align: right;\">\n",
       "      <th></th>\n",
       "      <th>City</th>\n",
       "      <th>Salary</th>\n",
       "      <th>Country</th>\n",
       "    </tr>\n",
       "  </thead>\n",
       "  <tbody>\n",
       "    <tr>\n",
       "      <th>0</th>\n",
       "      <td>Zurich</td>\n",
       "      <td>6110.03</td>\n",
       "      <td>Switzerland</td>\n",
       "    </tr>\n",
       "    <tr>\n",
       "      <th>1</th>\n",
       "      <td>Geneva</td>\n",
       "      <td>5658.27</td>\n",
       "      <td>Switzerland</td>\n",
       "    </tr>\n",
       "  </tbody>\n",
       "</table>\n",
       "</div>"
      ],
      "text/plain": [
       "     City   Salary       Country\n",
       "0  Zurich  6110.03   Switzerland\n",
       "1  Geneva  5658.27   Switzerland"
      ]
     },
     "execution_count": 23,
     "metadata": {},
     "output_type": "execute_result"
    }
   ],
   "source": [
    "df_salaries = pd.read_csv('CitySalaries.csv')\n",
    "split = df_salaries['City'].str.split(',')\n",
    "df_salaries.drop(['City'],axis=1)\n",
    "df_salaries['City']=split.str[0]\n",
    "df_salaries['Country']=split.str[1]\n",
    "df_salaries.head(2)"
   ]
  },
  {
   "cell_type": "code",
   "execution_count": 25,
   "metadata": {},
   "outputs": [
    {
     "data": {
      "text/html": [
       "<div>\n",
       "<style scoped>\n",
       "    .dataframe tbody tr th:only-of-type {\n",
       "        vertical-align: middle;\n",
       "    }\n",
       "\n",
       "    .dataframe tbody tr th {\n",
       "        vertical-align: top;\n",
       "    }\n",
       "\n",
       "    .dataframe thead th {\n",
       "        text-align: right;\n",
       "    }\n",
       "</style>\n",
       "<table border=\"1\" class=\"dataframe\">\n",
       "  <thead>\n",
       "    <tr style=\"text-align: right;\">\n",
       "      <th></th>\n",
       "      <th>Rank</th>\n",
       "      <th>City</th>\n",
       "      <th>Cost of Living Index</th>\n",
       "      <th>Rent Index</th>\n",
       "      <th>Cost of Living Plus Rent Index</th>\n",
       "      <th>Groceries Index</th>\n",
       "      <th>Restaurant Price Index</th>\n",
       "      <th>Local Purchasing Power Index</th>\n",
       "      <th>Country</th>\n",
       "    </tr>\n",
       "  </thead>\n",
       "  <tbody>\n",
       "    <tr>\n",
       "      <th>0</th>\n",
       "      <td>1</td>\n",
       "      <td>Zurich</td>\n",
       "      <td>141.25</td>\n",
       "      <td>66.14</td>\n",
       "      <td>105.03</td>\n",
       "      <td>149.86</td>\n",
       "      <td>135.76</td>\n",
       "      <td>142.70</td>\n",
       "      <td>Switzerland</td>\n",
       "    </tr>\n",
       "    <tr>\n",
       "      <th>1</th>\n",
       "      <td>2</td>\n",
       "      <td>Geneva</td>\n",
       "      <td>134.83</td>\n",
       "      <td>71.70</td>\n",
       "      <td>104.38</td>\n",
       "      <td>138.98</td>\n",
       "      <td>129.74</td>\n",
       "      <td>130.96</td>\n",
       "      <td>Switzerland</td>\n",
       "    </tr>\n",
       "  </tbody>\n",
       "</table>\n",
       "</div>"
      ],
      "text/plain": [
       "   Rank    City  Cost of Living Index  Rent Index  \\\n",
       "0     1  Zurich                141.25       66.14   \n",
       "1     2  Geneva                134.83       71.70   \n",
       "\n",
       "   Cost of Living Plus Rent Index  Groceries Index  Restaurant Price Index  \\\n",
       "0                          105.03           149.86                  135.76   \n",
       "1                          104.38           138.98                  129.74   \n",
       "\n",
       "   Local Purchasing Power Index       Country  \n",
       "0                        142.70   Switzerland  \n",
       "1                        130.96   Switzerland  "
      ]
     },
     "execution_count": 25,
     "metadata": {},
     "output_type": "execute_result"
    }
   ],
   "source": [
    "df_living = pd.read_csv('CityCostOfLiving.csv')\n",
    "split = df_living['City'].str.split(',')\n",
    "df_living.drop(['City'],axis=1)\n",
    "df_living['City']=split.str[0]\n",
    "df_living['Country']=split.str[1]\n",
    "df_living.head(2)"
   ]
  },
  {
   "cell_type": "code",
   "execution_count": null,
   "metadata": {},
   "outputs": [],
   "source": []
  }
 ],
 "metadata": {
  "kernelspec": {
   "display_name": "Python 3",
   "language": "python",
   "name": "python3"
  },
  "language_info": {
   "codemirror_mode": {
    "name": "ipython",
    "version": 3
   },
   "file_extension": ".py",
   "mimetype": "text/x-python",
   "name": "python",
   "nbconvert_exporter": "python",
   "pygments_lexer": "ipython3",
   "version": "3.6.5"
  }
 },
 "nbformat": 4,
 "nbformat_minor": 2
}

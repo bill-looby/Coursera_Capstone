{
 "cells": [
  {
   "cell_type": "markdown",
   "metadata": {},
   "source": [
    "# Landmark analysis\n",
    "\n",
    "Investigate the role socio-economic factors have in the development of areas around Eurpoean Landmarks, by looking at their effects on landmark clustering.\n",
    "\n",
    "Quickly assess the degree to which landmark popularity is independent of socio-economic factors. If determined to be independent, then this in turn can be used to maximise investment in areas in high return (high price/popularity) and low cost (low cost of living indicators) \n",
    "\n",
    "Cluster initially only by the price and rating of venues in close proximity to the Landmark. Add in socio-economic factors and cluster again, visually comparing the results.\n",
    "\n",
    "## Load the landmarks\n",
    "\n",
    "First load the local Landmarks csv file that we've created and view"
   ]
  },
  {
   "cell_type": "code",
   "execution_count": 1,
   "metadata": {},
   "outputs": [
    {
     "data": {
      "text/html": [
       "<div>\n",
       "<style scoped>\n",
       "    .dataframe tbody tr th:only-of-type {\n",
       "        vertical-align: middle;\n",
       "    }\n",
       "\n",
       "    .dataframe tbody tr th {\n",
       "        vertical-align: top;\n",
       "    }\n",
       "\n",
       "    .dataframe thead th {\n",
       "        text-align: right;\n",
       "    }\n",
       "</style>\n",
       "<table border=\"1\" class=\"dataframe\">\n",
       "  <thead>\n",
       "    <tr style=\"text-align: right;\">\n",
       "      <th></th>\n",
       "      <th>Landmark</th>\n",
       "      <th>City</th>\n",
       "      <th>Country</th>\n",
       "      <th>Latitude</th>\n",
       "      <th>Longitude</th>\n",
       "    </tr>\n",
       "  </thead>\n",
       "  <tbody>\n",
       "    <tr>\n",
       "      <th>0</th>\n",
       "      <td>Colosseum</td>\n",
       "      <td>Rome</td>\n",
       "      <td>Italy</td>\n",
       "      <td>41.8902</td>\n",
       "      <td>12.4922</td>\n",
       "    </tr>\n",
       "    <tr>\n",
       "      <th>1</th>\n",
       "      <td>Eiffel Tower</td>\n",
       "      <td>Paris</td>\n",
       "      <td>France</td>\n",
       "      <td>48.8584</td>\n",
       "      <td>2.2945</td>\n",
       "    </tr>\n",
       "    <tr>\n",
       "      <th>2</th>\n",
       "      <td>Sagrada Familia</td>\n",
       "      <td>Barcelona</td>\n",
       "      <td>Spain</td>\n",
       "      <td>41.4036</td>\n",
       "      <td>2.1744</td>\n",
       "    </tr>\n",
       "    <tr>\n",
       "      <th>3</th>\n",
       "      <td>The Church of Hallgrimur</td>\n",
       "      <td>Reykjavik</td>\n",
       "      <td>Iceland</td>\n",
       "      <td>64.1417</td>\n",
       "      <td>-21.9266</td>\n",
       "    </tr>\n",
       "    <tr>\n",
       "      <th>4</th>\n",
       "      <td>Leaning Tower of Pisa</td>\n",
       "      <td>Pisa</td>\n",
       "      <td>Italy</td>\n",
       "      <td>43.7230</td>\n",
       "      <td>10.3966</td>\n",
       "    </tr>\n",
       "  </tbody>\n",
       "</table>\n",
       "</div>"
      ],
      "text/plain": [
       "                   Landmark       City  Country  Latitude  Longitude\n",
       "0                 Colosseum       Rome    Italy   41.8902    12.4922\n",
       "1              Eiffel Tower      Paris   France   48.8584     2.2945\n",
       "2           Sagrada Familia  Barcelona    Spain   41.4036     2.1744\n",
       "3  The Church of Hallgrimur  Reykjavik  Iceland   64.1417   -21.9266\n",
       "4     Leaning Tower of Pisa       Pisa    Italy   43.7230    10.3966"
      ]
     },
     "execution_count": 1,
     "metadata": {},
     "output_type": "execute_result"
    }
   ],
   "source": [
    "import pandas as pd\n",
    "df_landmarks = pd.read_csv('Landmarks.csv')\n",
    "df_landmarks.head()"
   ]
  },
  {
   "cell_type": "markdown",
   "metadata": {},
   "source": [
    "## Now load information regarding the landmarks from FourSquare\n",
    "\n",
    "We get the venues within 500m of each landmark, then we look at the price and popularity of these venues. We use a number of methods to help us achieve this, so lets declare them first"
   ]
  },
  {
   "cell_type": "markdown",
   "metadata": {},
   "source": [
    "### Method to retrieve Foursquare feeds via a local cache\n",
    "All FourSquare APIs will go through this. We are not time sensitive, so the retrieved API requests can be cached for future use to prevent us going over the limit of FourSquare API throttling. This is especially important as -\n",
    "\n",
    "1. We want to make a lot of API calls (to get averages)\n",
    "2. We need to be able to repeat calls when testing\n",
    "\n",
    "To make matters worse, the price and rating information requires a 'premium' call (restricted to 50 API calls per day for a sandbox account), so we may also need to restrict the number of Landmarks being considered in this study."
   ]
  },
  {
   "cell_type": "code",
   "execution_count": 2,
   "metadata": {},
   "outputs": [],
   "source": [
    "CLIENT_ID = 'LKJ2HMDVO3MXO2MPSE5QO5R2HPLONX0YHRT4J23I3QCMKCXW' # your Foursquare ID\n",
    "CLIENT_SECRET = 'VVQRKXFSIUI4TD15OFEDPI3VKJX5OFBGKWKBMUHG245GNWT4' # your Foursquare Secret\n",
    "VERSION = '20180605' # Foursquare API version\n",
    "\n",
    "# Lets keep some statistics on this\n",
    "basic_stats = {\"from_cache\":0, \"from_api\":0, \"errors\":0}\n",
    "premium_stats = {\"from_cache\":0, \"from_api\":0, \"errors\":0}"
   ]
  },
  {
   "cell_type": "code",
   "execution_count": 3,
   "metadata": {},
   "outputs": [],
   "source": [
    "import requests\n",
    "import json\n",
    "from pathlib import Path\n",
    "import numpy as np\n",
    "from pandas.io.json import json_normalize\n",
    "\n",
    "def get_venues_close(lat, long, section):\n",
    "    vurl = 'https://api.foursquare.com/v2/venues/explore?&ll={},{}&section={}radius={}&limit={}&'.format(\n",
    "        lat, \n",
    "        long, \n",
    "        section,\n",
    "        500, \n",
    "        100) # yes the '&' is ugly but it saves us a four line if !\n",
    "    vpath = Path('ResponseCache/Explore.{}.{}.{}.json'.format(lat,long,section))\n",
    "    return get_cached_call(vpath, vurl, basic_stats)\n",
    "\n",
    "def get_venue_details(venueid):\n",
    "    vurl = 'https://api.foursquare.com/v2/venues/{}?'.format(venueid) # yes the '?' is ugly but it saves us a four line if !\n",
    "    vpath = Path('ResponseCache/Venue.{}.json'.format(venueid))\n",
    "    return get_cached_call(vpath, vurl, premium_stats)\n",
    "    \n",
    "def get_cached_call(json_path, api_url, stats):\n",
    "    if json_path.exists():\n",
    "        stats[\"from_cache\"]=stats[\"from_cache\"]+1\n",
    "        f = open(json_path, \"r\")\n",
    "        results = json.load(f);\n",
    "    else:\n",
    "        stats[\"from_api\"]=stats[\"from_api\"]+1\n",
    "        url = api_url+'client_id={}&client_secret={}&v={}'.format(\n",
    "            CLIENT_ID, \n",
    "            CLIENT_SECRET, \n",
    "            VERSION)\n",
    "        results = requests.get(url).json()\n",
    "        if results['meta']['code']==200:\n",
    "            f = open(json_path, \"w\")\n",
    "            json.dump(results,f)\n",
    "        else:\n",
    "            stats[\"errors\"]=stats[\"errors\"]+1\n",
    "    \n",
    "    return results"
   ]
  },
  {
   "cell_type": "markdown",
   "metadata": {},
   "source": [
    "### Method to determine if a row retrieved represents a restaurant\n",
    "This method is a simple check for the presence of the Restaurant Category"
   ]
  },
  {
   "cell_type": "code",
   "execution_count": 4,
   "metadata": {},
   "outputs": [],
   "source": [
    "# function that validates the presence of the category 'Restaurant'\n",
    "def is_restaurant(row):\n",
    "    try:\n",
    "        categories_list = row['categories']\n",
    "    except:\n",
    "        categories_list = row['venue.categories']\n",
    "    \n",
    "    size = len(categories_list)\n",
    "    if size == 0:\n",
    "        return False\n",
    "\n",
    "    hasCategory = False\n",
    "    for category in categories_list:\n",
    "        if 'Restaurant' in categories_list[0]['name']: # == not sufficient as ethnic restaurant include the type\n",
    "            hasCategory = True\n",
    "    \n",
    "    return hasCategory"
   ]
  },
  {
   "cell_type": "markdown",
   "metadata": {},
   "source": [
    "### Method to extract only rows corresponding to restaurants from an /explore query\n",
    "We create a method that will filter the rows found to only those that are Restaurants as we want to compare restaurant prices and ratings as the primary clustering criteria, and food includes many more categories. Also, as we will be doing individual queries on all, we will only need the id column (but include name for clarity)"
   ]
  },
  {
   "cell_type": "code",
   "execution_count": 5,
   "metadata": {},
   "outputs": [],
   "source": [
    "def get_restaurant_ids(results):\n",
    "    venues = results['response']['groups'][0]['items']\n",
    "    df_venues = json_normalize(venues) # Gives a huge number of columns\n",
    "\n",
    "    # Now pick out the columns we're interested in and filter to restaurants ('food' category alone doesn't do this)\n",
    "    filtered_columns = ['venue.name', 'venue.id', 'venue.categories']\n",
    "    df_venues = df_venues.loc[:, filtered_columns]\n",
    "    return df_venues[df_venues.apply(is_restaurant, axis=1)]"
   ]
  },
  {
   "cell_type": "markdown",
   "metadata": {},
   "source": [
    "### Method to get the price and rating for any given venue\n",
    "First we define the FourSquare access details in an individual cell (we won't need to repeat any of this when testing). After that we create two methods for use later.\n",
    "- Given a venue id, the price (unavailable from the FourSquare API) and rating are returned using the venue API\n",
    "- Given a Series of venue ids, the average of the price and ratings are returned"
   ]
  },
  {
   "cell_type": "code",
   "execution_count": 6,
   "metadata": {},
   "outputs": [],
   "source": [
    "def get_venue_price_and_rating(venueid):\n",
    "    results = get_venue_details(venueid)\n",
    "    try :\n",
    "        return results['response']['venue']['price']['tier'], results['response']['venue']['rating']\n",
    "    except:\n",
    "        return None, None # ignore poorly formatted results, and ensure mean generation will skip\n",
    "\n",
    "def get_average_price_and_rating(s_venueids):\n",
    "    data = [[0 for x in range(2)] for y in range(s_venueids.size)]\n",
    "    for idx, venueid in enumerate(s_venueids):\n",
    "        price,rating = get_venue_price_and_rating(venueid)\n",
    "        data[idx][0] = price\n",
    "        data[idx][1] = rating\n",
    "    df = pd.DataFrame(data, columns=['Price','Rating'])\n",
    "    return df['Price'].mean(skipna=True), df['Rating'].mean(skipna=True)"
   ]
  },
  {
   "cell_type": "code",
   "execution_count": 7,
   "metadata": {},
   "outputs": [
    {
     "data": {
      "text/plain": [
       "(2.9473684210526314, 8.147368421052633)"
      ]
     },
     "execution_count": 7,
     "metadata": {},
     "output_type": "execute_result"
    }
   ],
   "source": [
    "#TEST CODE based on the Coloseum  - DO NOT RUN !!!!!!!!\n",
    "results = get_venues_close('41.8902','12.4922','food')\n",
    "restaurants = get_restaurant_ids(results)\n",
    "rids = restaurants['venue.id']\n",
    "results = get_venue_details(rids[6]);\n",
    "\n",
    "avgp, avgr = get_average_price_and_rating(rids)\n",
    "avgp, avgr"
   ]
  },
  {
   "cell_type": "markdown",
   "metadata": {},
   "source": [
    "### Now iterate through the landmarks\n",
    "For each landmark we get the restaurants and then find the rating for each"
   ]
  },
  {
   "cell_type": "code",
   "execution_count": 8,
   "metadata": {},
   "outputs": [
    {
     "name": "stdout",
     "output_type": "stream",
     "text": [
      "Colosseum\n",
      "Eiffel Tower\n",
      "Sagrada Familia\n",
      "The Church of Hallgrimur\n",
      "Leaning Tower of Pisa\n",
      "Brandenburg Gate\n",
      "Ancient City Walls of Dubrovnik\n",
      "Acropolis\n",
      "Duomo\n",
      "Arc de Triomphe\n",
      "Alhambra\n",
      "Big Ben\n",
      "Buckingham Palace\n",
      "Trevi Fountain\n",
      "Pantheon\n",
      "Charles Bridge\n",
      "Schonbrunn Palace \n",
      "Red Square\n",
      "Church of Our Savior on Spilled Blood\n",
      "Belem Tower\n",
      "La Grand-Place\n",
      "Dublin Castle\n",
      "Anne Frank House\n",
      "Guggenheim Museum\n"
     ]
    }
   ],
   "source": [
    "section='food'\n",
    "prices = []\n",
    "ratings = []\n",
    "\n",
    "df_landmark_details = df_landmarks\n",
    "\n",
    "for index, row in df_landmark_details.iterrows():\n",
    "    print(row[0]) # as this takes a while to run - need feedback\n",
    "    results = get_venues_close(row[3],row[4],'food')\n",
    "    df_restaurants = get_restaurant_ids(results)\n",
    "    \n",
    "    df_restaurants = df_restaurants.head(20) # populate the cache at least a little for all landmarks - we'll increase this later\n",
    "    \n",
    "    rids = df_restaurants['venue.id']\n",
    "    avgp, avgr = get_average_price_and_rating(rids)\n",
    "    prices.append(avgp)\n",
    "    ratings.append(avgr)\n",
    "\n",
    "df_landmark_details = df_landmark_details.assign(Prices=pd.Series(prices))\n",
    "df_landmark_details = df_landmark_details.assign(Ratings=pd.Series(ratings))"
   ]
  },
  {
   "cell_type": "markdown",
   "metadata": {},
   "source": [
    "### Print out statistics of cache usage\n",
    "A quick checkpoint to see how many calls are cached and still in error"
   ]
  },
  {
   "cell_type": "code",
   "execution_count": 9,
   "metadata": {},
   "outputs": [
    {
     "name": "stdout",
     "output_type": "stream",
     "text": [
      "{'from_cache': 25, 'from_api': 0, 'errors': 0}\n",
      "{'from_cache': 470, 'from_api': 0, 'errors': 0}\n"
     ]
    }
   ],
   "source": [
    "print(basic_stats)\n",
    "print(premium_stats)"
   ]
  },
  {
   "cell_type": "markdown",
   "metadata": {},
   "source": [
    "## Load the City Statistics\n",
    "\n",
    "Numbeo offer free visual data, but charge for their API, so data has instead been copied and downloaded to files locally. Here we look at two data sets that are of particular interest and normalize the city names (removing the country) in order to match the City names used above. The two Files are -\n",
    "- `CitySalaries.csv` which offers the monthly salary per city\n",
    "- `CityCostOfLiving.csv` this offers a number of statistics such as restaurant prices and rent\n"
   ]
  },
  {
   "cell_type": "code",
   "execution_count": 10,
   "metadata": {},
   "outputs": [
    {
     "data": {
      "text/html": [
       "<div>\n",
       "<style scoped>\n",
       "    .dataframe tbody tr th:only-of-type {\n",
       "        vertical-align: middle;\n",
       "    }\n",
       "\n",
       "    .dataframe tbody tr th {\n",
       "        vertical-align: top;\n",
       "    }\n",
       "\n",
       "    .dataframe thead th {\n",
       "        text-align: right;\n",
       "    }\n",
       "</style>\n",
       "<table border=\"1\" class=\"dataframe\">\n",
       "  <thead>\n",
       "    <tr style=\"text-align: right;\">\n",
       "      <th></th>\n",
       "      <th>Landmark</th>\n",
       "      <th>City</th>\n",
       "      <th>Country</th>\n",
       "      <th>Latitude</th>\n",
       "      <th>Longitude</th>\n",
       "      <th>Prices</th>\n",
       "      <th>Ratings</th>\n",
       "      <th>Salary</th>\n",
       "    </tr>\n",
       "  </thead>\n",
       "  <tbody>\n",
       "    <tr>\n",
       "      <th>0</th>\n",
       "      <td>Colosseum</td>\n",
       "      <td>Rome</td>\n",
       "      <td>Italy</td>\n",
       "      <td>41.8902</td>\n",
       "      <td>12.4922</td>\n",
       "      <td>2.947368</td>\n",
       "      <td>8.147368</td>\n",
       "      <td>1638.22</td>\n",
       "    </tr>\n",
       "    <tr>\n",
       "      <th>1</th>\n",
       "      <td>Eiffel Tower</td>\n",
       "      <td>Paris</td>\n",
       "      <td>France</td>\n",
       "      <td>48.8584</td>\n",
       "      <td>2.2945</td>\n",
       "      <td>2.900000</td>\n",
       "      <td>8.690000</td>\n",
       "      <td>2784.38</td>\n",
       "    </tr>\n",
       "  </tbody>\n",
       "</table>\n",
       "</div>"
      ],
      "text/plain": [
       "       Landmark   City Country  Latitude  Longitude    Prices   Ratings  \\\n",
       "0     Colosseum   Rome   Italy   41.8902    12.4922  2.947368  8.147368   \n",
       "1  Eiffel Tower  Paris  France   48.8584     2.2945  2.900000  8.690000   \n",
       "\n",
       "    Salary  \n",
       "0  1638.22  \n",
       "1  2784.38  "
      ]
     },
     "execution_count": 10,
     "metadata": {},
     "output_type": "execute_result"
    }
   ],
   "source": [
    "df_salaries = pd.read_csv('CitySalaries.csv')\n",
    "split = df_salaries['City'].str.split(',')\n",
    "df_salaries.drop(['City'],axis=1)\n",
    "df_salaries['City']=split.str[0]\n",
    "df_salaries['Country']=split.str[1]\n",
    "\n",
    "# and merge in salary\n",
    "df_landmarks_with_salary = pd.merge(df_landmark_details, df_salaries[['City','Salary']], left_on='City',right_on='City', how='left')\n",
    "df_landmarks_with_salary.dropna(axis=0, inplace=True)\n",
    "df_landmarks_with_salary.head(2)"
   ]
  },
  {
   "cell_type": "code",
   "execution_count": 11,
   "metadata": {},
   "outputs": [
    {
     "data": {
      "text/html": [
       "<div>\n",
       "<style scoped>\n",
       "    .dataframe tbody tr th:only-of-type {\n",
       "        vertical-align: middle;\n",
       "    }\n",
       "\n",
       "    .dataframe tbody tr th {\n",
       "        vertical-align: top;\n",
       "    }\n",
       "\n",
       "    .dataframe thead th {\n",
       "        text-align: right;\n",
       "    }\n",
       "</style>\n",
       "<table border=\"1\" class=\"dataframe\">\n",
       "  <thead>\n",
       "    <tr style=\"text-align: right;\">\n",
       "      <th></th>\n",
       "      <th>Landmark</th>\n",
       "      <th>City</th>\n",
       "      <th>Country</th>\n",
       "      <th>Latitude</th>\n",
       "      <th>Longitude</th>\n",
       "      <th>Prices</th>\n",
       "      <th>Ratings</th>\n",
       "      <th>Salary</th>\n",
       "      <th>Cost of Living Index</th>\n",
       "      <th>Rent Index</th>\n",
       "      <th>Groceries Index</th>\n",
       "    </tr>\n",
       "  </thead>\n",
       "  <tbody>\n",
       "    <tr>\n",
       "      <th>0</th>\n",
       "      <td>Colosseum</td>\n",
       "      <td>Rome</td>\n",
       "      <td>Italy</td>\n",
       "      <td>41.8902</td>\n",
       "      <td>12.4922</td>\n",
       "      <td>2.947368</td>\n",
       "      <td>8.147368</td>\n",
       "      <td>1638.22</td>\n",
       "      <td>78.80</td>\n",
       "      <td>40.24</td>\n",
       "      <td>68.34</td>\n",
       "    </tr>\n",
       "    <tr>\n",
       "      <th>1</th>\n",
       "      <td>Eiffel Tower</td>\n",
       "      <td>Paris</td>\n",
       "      <td>France</td>\n",
       "      <td>48.8584</td>\n",
       "      <td>2.2945</td>\n",
       "      <td>2.900000</td>\n",
       "      <td>8.690000</td>\n",
       "      <td>2784.38</td>\n",
       "      <td>92.87</td>\n",
       "      <td>50.30</td>\n",
       "      <td>87.29</td>\n",
       "    </tr>\n",
       "  </tbody>\n",
       "</table>\n",
       "</div>"
      ],
      "text/plain": [
       "       Landmark   City Country  Latitude  Longitude    Prices   Ratings  \\\n",
       "0     Colosseum   Rome   Italy   41.8902    12.4922  2.947368  8.147368   \n",
       "1  Eiffel Tower  Paris  France   48.8584     2.2945  2.900000  8.690000   \n",
       "\n",
       "    Salary  Cost of Living Index  Rent Index  Groceries Index  \n",
       "0  1638.22                 78.80       40.24            68.34  \n",
       "1  2784.38                 92.87       50.30            87.29  "
      ]
     },
     "execution_count": 11,
     "metadata": {},
     "output_type": "execute_result"
    }
   ],
   "source": [
    "df_living = pd.read_csv('CityCostOfLiving.csv')\n",
    "split = df_living['City'].str.split(',')\n",
    "df_living.drop(['City'],axis=1)\n",
    "df_living['City']=split.str[0]\n",
    "df_living['Country']=split.str[1]\n",
    "\n",
    "df_complete = pd.merge(df_landmarks_with_salary, df_living[['City','Cost of Living Index','Rent Index', 'Groceries Index']], left_on='City',right_on='City', how='left')\n",
    "df_complete.dropna(axis=0, inplace=True)\n",
    "df_complete.head(2)"
   ]
  },
  {
   "cell_type": "markdown",
   "metadata": {},
   "source": [
    "## Investigate variance and correlation of data\n",
    "\n",
    "### Mean, Standard Deviation and Variance\n",
    "\n",
    "Before looking at the clustering we should be aware of what the variance (and therefore default 'bias') will be with all of the columns that we could potentially choose to use for clustering. KMeans does some normalization, but doesn't fully address differences in Variance.\n"
   ]
  },
  {
   "cell_type": "code",
   "execution_count": 12,
   "metadata": {},
   "outputs": [
    {
     "data": {
      "text/plain": [
       "Prices                   0.349621\n",
       "Ratings                  0.208975\n",
       "Cost of Living Index    17.205251\n",
       "Rent Index              17.492027\n",
       "Groceries Index         17.741422\n",
       "dtype: float64"
      ]
     },
     "execution_count": 12,
     "metadata": {},
     "output_type": "execute_result"
    }
   ],
   "source": [
    "df_complete[['Prices','Ratings','Cost of Living Index','Rent Index','Groceries Index']].std()"
   ]
  },
  {
   "cell_type": "markdown",
   "metadata": {},
   "source": [
    "However, we really need to see the standard deviation as a fraction of the mean (also known as the coefficient of variation) to get an idea for what kind of normalization will be required."
   ]
  },
  {
   "cell_type": "code",
   "execution_count": 13,
   "metadata": {},
   "outputs": [
    {
     "data": {
      "text/html": [
       "<div>\n",
       "<style scoped>\n",
       "    .dataframe tbody tr th:only-of-type {\n",
       "        vertical-align: middle;\n",
       "    }\n",
       "\n",
       "    .dataframe tbody tr th {\n",
       "        vertical-align: top;\n",
       "    }\n",
       "\n",
       "    .dataframe thead th {\n",
       "        text-align: right;\n",
       "    }\n",
       "</style>\n",
       "<table border=\"1\" class=\"dataframe\">\n",
       "  <thead>\n",
       "    <tr style=\"text-align: right;\">\n",
       "      <th></th>\n",
       "      <th>StdDev</th>\n",
       "      <th>Mean</th>\n",
       "      <th>Variation</th>\n",
       "    </tr>\n",
       "  </thead>\n",
       "  <tbody>\n",
       "    <tr>\n",
       "      <th>Prices</th>\n",
       "      <td>0.349621</td>\n",
       "      <td>2.420003</td>\n",
       "      <td>0.144471</td>\n",
       "    </tr>\n",
       "    <tr>\n",
       "      <th>Ratings</th>\n",
       "      <td>0.208975</td>\n",
       "      <td>8.397633</td>\n",
       "      <td>0.024885</td>\n",
       "    </tr>\n",
       "    <tr>\n",
       "      <th>Cost of Living Index</th>\n",
       "      <td>17.205251</td>\n",
       "      <td>78.905500</td>\n",
       "      <td>0.218049</td>\n",
       "    </tr>\n",
       "    <tr>\n",
       "      <th>Rent Index</th>\n",
       "      <td>17.492027</td>\n",
       "      <td>41.974000</td>\n",
       "      <td>0.416735</td>\n",
       "    </tr>\n",
       "    <tr>\n",
       "      <th>Groceries Index</th>\n",
       "      <td>17.741422</td>\n",
       "      <td>67.490500</td>\n",
       "      <td>0.262873</td>\n",
       "    </tr>\n",
       "  </tbody>\n",
       "</table>\n",
       "</div>"
      ],
      "text/plain": [
       "                         StdDev       Mean  Variation\n",
       "Prices                 0.349621   2.420003   0.144471\n",
       "Ratings                0.208975   8.397633   0.024885\n",
       "Cost of Living Index  17.205251  78.905500   0.218049\n",
       "Rent Index            17.492027  41.974000   0.416735\n",
       "Groceries Index       17.741422  67.490500   0.262873"
      ]
     },
     "execution_count": 13,
     "metadata": {},
     "output_type": "execute_result"
    }
   ],
   "source": [
    "stat_cols = df_complete[['Prices','Ratings','Cost of Living Index','Rent Index','Groceries Index']]\n",
    "pd.DataFrame({'StdDev':stat_cols.std(),'Mean':stat_cols.mean(), 'Variation':stat_cols.std()/stat_cols.mean()})"
   ]
  },
  {
   "cell_type": "markdown",
   "metadata": {},
   "source": [
    "### Correlation and feature selection/removal\n",
    "\n",
    "Rather than doing complex feature removal we should simply try to look at correlation of the city features and see if there are any that could be considered superfluous, in case this is sufficient."
   ]
  },
  {
   "cell_type": "code",
   "execution_count": 14,
   "metadata": {},
   "outputs": [
    {
     "data": {
      "text/html": [
       "<div>\n",
       "<style scoped>\n",
       "    .dataframe tbody tr th:only-of-type {\n",
       "        vertical-align: middle;\n",
       "    }\n",
       "\n",
       "    .dataframe tbody tr th {\n",
       "        vertical-align: top;\n",
       "    }\n",
       "\n",
       "    .dataframe thead th {\n",
       "        text-align: right;\n",
       "    }\n",
       "</style>\n",
       "<table border=\"1\" class=\"dataframe\">\n",
       "  <thead>\n",
       "    <tr style=\"text-align: right;\">\n",
       "      <th></th>\n",
       "      <th>Cost of Living Index</th>\n",
       "      <th>Rent Index</th>\n",
       "      <th>Groceries Index</th>\n",
       "    </tr>\n",
       "  </thead>\n",
       "  <tbody>\n",
       "    <tr>\n",
       "      <th>Cost of Living Index</th>\n",
       "      <td>1.000000</td>\n",
       "      <td>0.692002</td>\n",
       "      <td>0.960791</td>\n",
       "    </tr>\n",
       "    <tr>\n",
       "      <th>Rent Index</th>\n",
       "      <td>0.692002</td>\n",
       "      <td>1.000000</td>\n",
       "      <td>0.526091</td>\n",
       "    </tr>\n",
       "    <tr>\n",
       "      <th>Groceries Index</th>\n",
       "      <td>0.960791</td>\n",
       "      <td>0.526091</td>\n",
       "      <td>1.000000</td>\n",
       "    </tr>\n",
       "  </tbody>\n",
       "</table>\n",
       "</div>"
      ],
      "text/plain": [
       "                      Cost of Living Index  Rent Index  Groceries Index\n",
       "Cost of Living Index              1.000000    0.692002         0.960791\n",
       "Rent Index                        0.692002    1.000000         0.526091\n",
       "Groceries Index                   0.960791    0.526091         1.000000"
      ]
     },
     "execution_count": 14,
     "metadata": {},
     "output_type": "execute_result"
    }
   ],
   "source": [
    "#print(df_complete['Cost of Living Index'].corr(df_complete['Rent Index']))\n",
    "df_complete[['Cost of Living Index','Rent Index','Groceries Index']].corr()"
   ]
  },
  {
   "cell_type": "markdown",
   "metadata": {},
   "source": [
    "## Now cluster and display\n",
    "\n",
    "We will run a clustering algorithm on the landmarks based on their price and rating averages. This will identify a range of cities that share price/rating averages. Cities that cluster differently when socio-economic indicators are taken into account will present an immediate visual indicator of potential development opportunities.\n",
    "\n",
    "### First some setup\n",
    "\n",
    "Colours and some time consuming imports"
   ]
  },
  {
   "cell_type": "code",
   "execution_count": 15,
   "metadata": {},
   "outputs": [
    {
     "name": "stdout",
     "output_type": "stream",
     "text": [
      "Solving environment: done\n",
      "\n",
      "## Package Plan ##\n",
      "\n",
      "  environment location: /home/jupyterlab/conda\n",
      "\n",
      "  added / updated specs: \n",
      "    - folium=0.5.0\n",
      "\n",
      "\n",
      "The following packages will be downloaded:\n",
      "\n",
      "    package                    |            build\n",
      "    ---------------------------|-----------------\n",
      "    openssl-1.0.2p             |       h470a237_1         3.1 MB  conda-forge\n",
      "    certifi-2018.10.15         |        py36_1000         138 KB  conda-forge\n",
      "    vincent-0.4.4              |             py_1          28 KB  conda-forge\n",
      "    ca-certificates-2018.10.15 |       ha4d7672_0         135 KB  conda-forge\n",
      "    branca-0.3.1               |             py_0          25 KB  conda-forge\n",
      "    conda-4.5.11               |        py36_1000         651 KB  conda-forge\n",
      "    folium-0.5.0               |             py_0          45 KB  conda-forge\n",
      "    altair-2.2.2               |        py36_1001         494 KB  conda-forge\n",
      "    ------------------------------------------------------------\n",
      "                                           Total:         4.6 MB\n",
      "\n",
      "The following NEW packages will be INSTALLED:\n",
      "\n",
      "    altair:          2.2.2-py36_1001      conda-forge\n",
      "    branca:          0.3.1-py_0           conda-forge\n",
      "    folium:          0.5.0-py_0           conda-forge\n",
      "    vincent:         0.4.4-py_1           conda-forge\n",
      "\n",
      "The following packages will be UPDATED:\n",
      "\n",
      "    ca-certificates: 2018.8.24-ha4d7672_0 conda-forge --> 2018.10.15-ha4d7672_0 conda-forge\n",
      "    certifi:         2018.8.24-py36_1001  conda-forge --> 2018.10.15-py36_1000  conda-forge\n",
      "    conda:           4.5.11-py36_0        conda-forge --> 4.5.11-py36_1000      conda-forge\n",
      "    openssl:         1.0.2p-h470a237_0    conda-forge --> 1.0.2p-h470a237_1     conda-forge\n",
      "\n",
      "\n",
      "Downloading and Extracting Packages\n",
      "openssl-1.0.2p       | 3.1 MB    | ##################################### | 100% \n",
      "certifi-2018.10.15   | 138 KB    | ##################################### | 100% \n",
      "vincent-0.4.4        | 28 KB     | ##################################### | 100% \n",
      "ca-certificates-2018 | 135 KB    | ##################################### | 100% \n",
      "branca-0.3.1         | 25 KB     | ##################################### | 100% \n",
      "conda-4.5.11         | 651 KB    | ##################################### | 100% \n",
      "folium-0.5.0         | 45 KB     | ##################################### | 100% \n",
      "altair-2.2.2         | 494 KB    | ##################################### | 100% \n",
      "Preparing transaction: done\n",
      "Verifying transaction: done\n",
      "Executing transaction: done\n"
     ]
    }
   ],
   "source": [
    "!conda install -c conda-forge folium=0.5.0 --yes\n",
    "\n",
    "import matplotlib.cm as cm\n",
    "import matplotlib.colors as colors\n",
    "\n",
    "# import k-means from clustering stage and folium (assumes already installed)\n",
    "from sklearn.cluster import KMeans\n",
    "import folium # map rendering library\n",
    "\n",
    "# set color scheme for the clusters\n",
    "numclusters = 4\n",
    "x = np.arange(numclusters)\n",
    "ys = [i+x+(i*x)**2 for i in range(numclusters)]\n",
    "colors_array = cm.rainbow(np.linspace(0, 1, len(ys)))\n",
    "rainbow = [colors.rgb2hex(i) for i in colors_array]"
   ]
  },
  {
   "cell_type": "markdown",
   "metadata": {},
   "source": [
    "### Clustering 1 - with just price and ratings\n",
    "\n",
    "Extract the prices and ratings and cluster "
   ]
  },
  {
   "cell_type": "code",
   "execution_count": 16,
   "metadata": {},
   "outputs": [
    {
     "data": {
      "text/html": [
       "<div>\n",
       "<style scoped>\n",
       "    .dataframe tbody tr th:only-of-type {\n",
       "        vertical-align: middle;\n",
       "    }\n",
       "\n",
       "    .dataframe tbody tr th {\n",
       "        vertical-align: top;\n",
       "    }\n",
       "\n",
       "    .dataframe thead th {\n",
       "        text-align: right;\n",
       "    }\n",
       "</style>\n",
       "<table border=\"1\" class=\"dataframe\">\n",
       "  <thead>\n",
       "    <tr style=\"text-align: right;\">\n",
       "      <th></th>\n",
       "      <th>Landmark</th>\n",
       "      <th>City</th>\n",
       "      <th>Country</th>\n",
       "      <th>Latitude</th>\n",
       "      <th>Longitude</th>\n",
       "      <th>Prices</th>\n",
       "      <th>Ratings</th>\n",
       "      <th>Salary</th>\n",
       "      <th>Cost of Living Index</th>\n",
       "      <th>Rent Index</th>\n",
       "      <th>Groceries Index</th>\n",
       "      <th>Cluster</th>\n",
       "    </tr>\n",
       "  </thead>\n",
       "  <tbody>\n",
       "    <tr>\n",
       "      <th>0</th>\n",
       "      <td>Colosseum</td>\n",
       "      <td>Rome</td>\n",
       "      <td>Italy</td>\n",
       "      <td>41.8902</td>\n",
       "      <td>12.4922</td>\n",
       "      <td>2.947368</td>\n",
       "      <td>8.147368</td>\n",
       "      <td>1638.22</td>\n",
       "      <td>78.80</td>\n",
       "      <td>40.24</td>\n",
       "      <td>68.34</td>\n",
       "      <td>1</td>\n",
       "    </tr>\n",
       "    <tr>\n",
       "      <th>1</th>\n",
       "      <td>Eiffel Tower</td>\n",
       "      <td>Paris</td>\n",
       "      <td>France</td>\n",
       "      <td>48.8584</td>\n",
       "      <td>2.2945</td>\n",
       "      <td>2.900000</td>\n",
       "      <td>8.690000</td>\n",
       "      <td>2784.38</td>\n",
       "      <td>92.87</td>\n",
       "      <td>50.30</td>\n",
       "      <td>87.29</td>\n",
       "      <td>2</td>\n",
       "    </tr>\n",
       "    <tr>\n",
       "      <th>2</th>\n",
       "      <td>Sagrada Familia</td>\n",
       "      <td>Barcelona</td>\n",
       "      <td>Spain</td>\n",
       "      <td>41.4036</td>\n",
       "      <td>2.1744</td>\n",
       "      <td>2.000000</td>\n",
       "      <td>8.189474</td>\n",
       "      <td>1665.35</td>\n",
       "      <td>69.75</td>\n",
       "      <td>33.71</td>\n",
       "      <td>59.29</td>\n",
       "      <td>3</td>\n",
       "    </tr>\n",
       "    <tr>\n",
       "      <th>3</th>\n",
       "      <td>The Church of Hallgrimur</td>\n",
       "      <td>Reykjavik</td>\n",
       "      <td>Iceland</td>\n",
       "      <td>64.1417</td>\n",
       "      <td>-21.9266</td>\n",
       "      <td>2.200000</td>\n",
       "      <td>8.395000</td>\n",
       "      <td>3226.82</td>\n",
       "      <td>123.78</td>\n",
       "      <td>57.25</td>\n",
       "      <td>118.15</td>\n",
       "      <td>0</td>\n",
       "    </tr>\n",
       "    <tr>\n",
       "      <th>4</th>\n",
       "      <td>Brandenburg Gate</td>\n",
       "      <td>Berlin</td>\n",
       "      <td>Germany</td>\n",
       "      <td>52.5163</td>\n",
       "      <td>13.3777</td>\n",
       "      <td>2.250000</td>\n",
       "      <td>8.358333</td>\n",
       "      <td>2432.13</td>\n",
       "      <td>74.32</td>\n",
       "      <td>33.54</td>\n",
       "      <td>60.74</td>\n",
       "      <td>0</td>\n",
       "    </tr>\n",
       "  </tbody>\n",
       "</table>\n",
       "</div>"
      ],
      "text/plain": [
       "                   Landmark       City  Country  Latitude  Longitude  \\\n",
       "0                 Colosseum       Rome    Italy   41.8902    12.4922   \n",
       "1              Eiffel Tower      Paris   France   48.8584     2.2945   \n",
       "2           Sagrada Familia  Barcelona    Spain   41.4036     2.1744   \n",
       "3  The Church of Hallgrimur  Reykjavik  Iceland   64.1417   -21.9266   \n",
       "4          Brandenburg Gate     Berlin  Germany   52.5163    13.3777   \n",
       "\n",
       "     Prices   Ratings   Salary  Cost of Living Index  Rent Index  \\\n",
       "0  2.947368  8.147368  1638.22                 78.80       40.24   \n",
       "1  2.900000  8.690000  2784.38                 92.87       50.30   \n",
       "2  2.000000  8.189474  1665.35                 69.75       33.71   \n",
       "3  2.200000  8.395000  3226.82                123.78       57.25   \n",
       "4  2.250000  8.358333  2432.13                 74.32       33.54   \n",
       "\n",
       "   Groceries Index  Cluster  \n",
       "0            68.34        1  \n",
       "1            87.29        2  \n",
       "2            59.29        3  \n",
       "3           118.15        0  \n",
       "4            60.74        0  "
      ]
     },
     "execution_count": 16,
     "metadata": {},
     "output_type": "execute_result"
    }
   ],
   "source": [
    "from sklearn.cluster import KMeans\n",
    "from sklearn.preprocessing import StandardScaler\n",
    "\n",
    "# Scale\n",
    "df_landmark_stats1 = df_complete[['Prices','Ratings']]\n",
    "scaler = StandardScaler()\n",
    "scaler.fit(df_landmark_stats1)\n",
    "df_scaled1 = scaler.transform(df_landmark_stats1)\n",
    "\n",
    "#Cluster\n",
    "kmeans1 = KMeans(n_clusters=numclusters, random_state=0).fit(df_scaled1)\n",
    "df_clustered1 = df_complete.assign(Cluster = pd.Series(kmeans1.labels_))\n",
    "df_clustered1.head()\n"
   ]
  },
  {
   "cell_type": "markdown",
   "metadata": {},
   "source": [
    "And now display graphically"
   ]
  },
  {
   "cell_type": "code",
   "execution_count": 17,
   "metadata": {},
   "outputs": [
    {
     "data": {
      "text/html": [
       "<div style=\"width:100%;\"><div style=\"position:relative;width:100%;height:0;padding-bottom:60%;\"><iframe src=\"data:text/html;charset=utf-8;base64,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\" style=\"position:absolute;width:100%;height:100%;left:0;top:0;border:none !important;\" allowfullscreen webkitallowfullscreen mozallowfullscreen></iframe></div></div>"
      ],
      "text/plain": [
       "<folium.folium.Map at 0x7f5f214114e0>"
      ]
     },
     "execution_count": 17,
     "metadata": {},
     "output_type": "execute_result"
    }
   ],
   "source": [
    "# create map of Europe using latitude and longitude values (these needed manual tweaking for best display)\n",
    "EUROPE_LAT = 52\n",
    "EUROPE_LONG = 15\n",
    "map_europe = folium.Map(location=[EUROPE_LAT, EUROPE_LONG], zoom_start=4)\n",
    "\n",
    "# add markers to the map\n",
    "for index, row in df_clustered1.iterrows():\n",
    "    cluster = row['Cluster']\n",
    "    label = '{}, {}'.format(row['Landmark'], row['City'])\n",
    "    label = folium.Popup(label, parse_html=True)\n",
    "    folium.CircleMarker(\n",
    "        [row['Latitude'], row['Longitude']],\n",
    "        radius=5,\n",
    "        popup=label,\n",
    "        color=rainbow[cluster],\n",
    "        fill=True,\n",
    "        fill_color='#3186cc',\n",
    "        fill_opacity=0.7,\n",
    "        parse_html=False).add_to(map_europe)  \n",
    "\n",
    "    \n",
    "map_europe"
   ]
  },
  {
   "cell_type": "markdown",
   "metadata": {},
   "source": [
    "Now lets do a quick analysis of what the clusters mean by finding some averages"
   ]
  },
  {
   "cell_type": "code",
   "execution_count": 18,
   "metadata": {},
   "outputs": [
    {
     "data": {
      "text/html": [
       "<div>\n",
       "<style scoped>\n",
       "    .dataframe tbody tr th:only-of-type {\n",
       "        vertical-align: middle;\n",
       "    }\n",
       "\n",
       "    .dataframe tbody tr th {\n",
       "        vertical-align: top;\n",
       "    }\n",
       "\n",
       "    .dataframe thead th {\n",
       "        text-align: right;\n",
       "    }\n",
       "</style>\n",
       "<table border=\"1\" class=\"dataframe\">\n",
       "  <thead>\n",
       "    <tr style=\"text-align: right;\">\n",
       "      <th></th>\n",
       "      <th>Prices</th>\n",
       "      <th>Ratings</th>\n",
       "      <th>Color</th>\n",
       "    </tr>\n",
       "    <tr>\n",
       "      <th>Cluster</th>\n",
       "      <th></th>\n",
       "      <th></th>\n",
       "      <th></th>\n",
       "    </tr>\n",
       "  </thead>\n",
       "  <tbody>\n",
       "    <tr>\n",
       "      <th>0</th>\n",
       "      <td>2.224966</td>\n",
       "      <td>8.401798</td>\n",
       "      <td>Purple</td>\n",
       "    </tr>\n",
       "    <tr>\n",
       "      <th>1</th>\n",
       "      <td>2.911842</td>\n",
       "      <td>8.313092</td>\n",
       "      <td>Blue</td>\n",
       "    </tr>\n",
       "    <tr>\n",
       "      <th>2</th>\n",
       "      <td>2.588248</td>\n",
       "      <td>8.701784</td>\n",
       "      <td>Yellow</td>\n",
       "    </tr>\n",
       "    <tr>\n",
       "      <th>3</th>\n",
       "      <td>2.125000</td>\n",
       "      <td>8.092325</td>\n",
       "      <td>Red</td>\n",
       "    </tr>\n",
       "  </tbody>\n",
       "</table>\n",
       "</div>"
      ],
      "text/plain": [
       "           Prices   Ratings   Color\n",
       "Cluster                            \n",
       "0        2.224966  8.401798  Purple\n",
       "1        2.911842  8.313092    Blue\n",
       "2        2.588248  8.701784  Yellow\n",
       "3        2.125000  8.092325     Red"
      ]
     },
     "execution_count": 18,
     "metadata": {},
     "output_type": "execute_result"
    }
   ],
   "source": [
    "df_clusters = df_clustered1[['Prices','Ratings','Cluster']].groupby(['Cluster']).mean()\n",
    "df_clusters.assign(Color = ['Purple','Blue','Yellow','Red'])"
   ]
  },
  {
   "cell_type": "markdown",
   "metadata": {},
   "source": [
    "## Clustering 2 with socio economic factors\n",
    "\n",
    "Take the columns from earlier and update see how the clustering differs"
   ]
  },
  {
   "cell_type": "code",
   "execution_count": 19,
   "metadata": {},
   "outputs": [
    {
     "data": {
      "text/html": [
       "<div>\n",
       "<style scoped>\n",
       "    .dataframe tbody tr th:only-of-type {\n",
       "        vertical-align: middle;\n",
       "    }\n",
       "\n",
       "    .dataframe tbody tr th {\n",
       "        vertical-align: top;\n",
       "    }\n",
       "\n",
       "    .dataframe thead th {\n",
       "        text-align: right;\n",
       "    }\n",
       "</style>\n",
       "<table border=\"1\" class=\"dataframe\">\n",
       "  <thead>\n",
       "    <tr style=\"text-align: right;\">\n",
       "      <th></th>\n",
       "      <th>Landmark</th>\n",
       "      <th>City</th>\n",
       "      <th>Country</th>\n",
       "      <th>Latitude</th>\n",
       "      <th>Longitude</th>\n",
       "      <th>Prices</th>\n",
       "      <th>Ratings</th>\n",
       "      <th>Salary</th>\n",
       "      <th>Cost of Living Index</th>\n",
       "      <th>Rent Index</th>\n",
       "      <th>Groceries Index</th>\n",
       "      <th>Cluster</th>\n",
       "    </tr>\n",
       "  </thead>\n",
       "  <tbody>\n",
       "    <tr>\n",
       "      <th>0</th>\n",
       "      <td>Colosseum</td>\n",
       "      <td>Rome</td>\n",
       "      <td>Italy</td>\n",
       "      <td>41.8902</td>\n",
       "      <td>12.4922</td>\n",
       "      <td>2.947368</td>\n",
       "      <td>8.147368</td>\n",
       "      <td>1638.22</td>\n",
       "      <td>78.80</td>\n",
       "      <td>40.24</td>\n",
       "      <td>68.34</td>\n",
       "      <td>3</td>\n",
       "    </tr>\n",
       "    <tr>\n",
       "      <th>1</th>\n",
       "      <td>Eiffel Tower</td>\n",
       "      <td>Paris</td>\n",
       "      <td>France</td>\n",
       "      <td>48.8584</td>\n",
       "      <td>2.2945</td>\n",
       "      <td>2.900000</td>\n",
       "      <td>8.690000</td>\n",
       "      <td>2784.38</td>\n",
       "      <td>92.87</td>\n",
       "      <td>50.30</td>\n",
       "      <td>87.29</td>\n",
       "      <td>0</td>\n",
       "    </tr>\n",
       "    <tr>\n",
       "      <th>2</th>\n",
       "      <td>Sagrada Familia</td>\n",
       "      <td>Barcelona</td>\n",
       "      <td>Spain</td>\n",
       "      <td>41.4036</td>\n",
       "      <td>2.1744</td>\n",
       "      <td>2.000000</td>\n",
       "      <td>8.189474</td>\n",
       "      <td>1665.35</td>\n",
       "      <td>69.75</td>\n",
       "      <td>33.71</td>\n",
       "      <td>59.29</td>\n",
       "      <td>1</td>\n",
       "    </tr>\n",
       "    <tr>\n",
       "      <th>3</th>\n",
       "      <td>The Church of Hallgrimur</td>\n",
       "      <td>Reykjavik</td>\n",
       "      <td>Iceland</td>\n",
       "      <td>64.1417</td>\n",
       "      <td>-21.9266</td>\n",
       "      <td>2.200000</td>\n",
       "      <td>8.395000</td>\n",
       "      <td>3226.82</td>\n",
       "      <td>123.78</td>\n",
       "      <td>57.25</td>\n",
       "      <td>118.15</td>\n",
       "      <td>2</td>\n",
       "    </tr>\n",
       "    <tr>\n",
       "      <th>4</th>\n",
       "      <td>Brandenburg Gate</td>\n",
       "      <td>Berlin</td>\n",
       "      <td>Germany</td>\n",
       "      <td>52.5163</td>\n",
       "      <td>13.3777</td>\n",
       "      <td>2.250000</td>\n",
       "      <td>8.358333</td>\n",
       "      <td>2432.13</td>\n",
       "      <td>74.32</td>\n",
       "      <td>33.54</td>\n",
       "      <td>60.74</td>\n",
       "      <td>1</td>\n",
       "    </tr>\n",
       "  </tbody>\n",
       "</table>\n",
       "</div>"
      ],
      "text/plain": [
       "                   Landmark       City  Country  Latitude  Longitude  \\\n",
       "0                 Colosseum       Rome    Italy   41.8902    12.4922   \n",
       "1              Eiffel Tower      Paris   France   48.8584     2.2945   \n",
       "2           Sagrada Familia  Barcelona    Spain   41.4036     2.1744   \n",
       "3  The Church of Hallgrimur  Reykjavik  Iceland   64.1417   -21.9266   \n",
       "4          Brandenburg Gate     Berlin  Germany   52.5163    13.3777   \n",
       "\n",
       "     Prices   Ratings   Salary  Cost of Living Index  Rent Index  \\\n",
       "0  2.947368  8.147368  1638.22                 78.80       40.24   \n",
       "1  2.900000  8.690000  2784.38                 92.87       50.30   \n",
       "2  2.000000  8.189474  1665.35                 69.75       33.71   \n",
       "3  2.200000  8.395000  3226.82                123.78       57.25   \n",
       "4  2.250000  8.358333  2432.13                 74.32       33.54   \n",
       "\n",
       "   Groceries Index  Cluster  \n",
       "0            68.34        3  \n",
       "1            87.29        0  \n",
       "2            59.29        1  \n",
       "3           118.15        2  \n",
       "4            60.74        1  "
      ]
     },
     "execution_count": 19,
     "metadata": {},
     "output_type": "execute_result"
    }
   ],
   "source": [
    "from sklearn.cluster import KMeans\n",
    "\n",
    "#df_landmark_stats2 = df_complete[['Cost of Living Index','Rent Index', 'Groceries Index']]\n",
    "df_landmark_stats2 = df_complete[['Prices','Ratings','Rent Index', 'Groceries Index']]\n",
    "\n",
    "scaler = StandardScaler()\n",
    "scaler.fit(df_landmark_stats2)\n",
    "df_normalised = scaler.transform(df_landmark_stats2)\n",
    "\n",
    "kmeans1 = KMeans(n_clusters=numclusters, random_state=0).fit(df_normalised)\n",
    "df_clustered2 = df_complete.assign(Cluster = pd.Series(kmeans1.labels_))\n",
    "df_clustered2.head()"
   ]
  },
  {
   "cell_type": "markdown",
   "metadata": {},
   "source": [
    "Set up a manually determined rainbow"
   ]
  },
  {
   "cell_type": "code",
   "execution_count": 20,
   "metadata": {},
   "outputs": [
    {
     "data": {
      "text/plain": [
       "['#d4dd80', '#ff0000', '#8000ff', '#2adddd']"
      ]
     },
     "execution_count": 20,
     "metadata": {},
     "output_type": "execute_result"
    }
   ],
   "source": [
    "rainbow2 = [rainbow[2],rainbow[3],rainbow[0],rainbow[1]]\n",
    "rainbow2"
   ]
  },
  {
   "cell_type": "markdown",
   "metadata": {},
   "source": [
    "and now display graphically"
   ]
  },
  {
   "cell_type": "code",
   "execution_count": 21,
   "metadata": {},
   "outputs": [
    {
     "data": {
      "text/html": [
       "<div style=\"width:100%;\"><div style=\"position:relative;width:100%;height:0;padding-bottom:60%;\"><iframe src=\"data:text/html;charset=utf-8;base64,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\" style=\"position:absolute;width:100%;height:100%;left:0;top:0;border:none !important;\" allowfullscreen webkitallowfullscreen mozallowfullscreen></iframe></div></div>"
      ],
      "text/plain": [
       "<folium.folium.Map at 0x7f5f1c451780>"
      ]
     },
     "execution_count": 21,
     "metadata": {},
     "output_type": "execute_result"
    }
   ],
   "source": [
    "# create map of Europe using latitude and longitude values (these needed manual tweaking for best display)\n",
    "map_europe = folium.Map(location=[EUROPE_LAT, EUROPE_LONG], zoom_start=4)\n",
    "\n",
    "# add markers to the map\n",
    "for index, row in df_clustered2.iterrows():\n",
    "    cluster = row['Cluster']\n",
    "    label = '{}, {}'.format(row['Landmark'], row['City'])\n",
    "    label = folium.Popup(label, parse_html=True)\n",
    "    folium.CircleMarker(\n",
    "        [row['Latitude'], row['Longitude']],\n",
    "        radius=5,\n",
    "        popup=label,\n",
    "        color=rainbow2[cluster],\n",
    "        fill=True,\n",
    "        fill_color='#3186cc',\n",
    "        fill_opacity=0.7,\n",
    "        parse_html=False).add_to(map_europe)  \n",
    "\n",
    "    \n",
    "map_europe"
   ]
  },
  {
   "cell_type": "code",
   "execution_count": 22,
   "metadata": {},
   "outputs": [
    {
     "data": {
      "text/html": [
       "<div>\n",
       "<style scoped>\n",
       "    .dataframe tbody tr th:only-of-type {\n",
       "        vertical-align: middle;\n",
       "    }\n",
       "\n",
       "    .dataframe tbody tr th {\n",
       "        vertical-align: top;\n",
       "    }\n",
       "\n",
       "    .dataframe thead th {\n",
       "        text-align: right;\n",
       "    }\n",
       "</style>\n",
       "<table border=\"1\" class=\"dataframe\">\n",
       "  <thead>\n",
       "    <tr style=\"text-align: right;\">\n",
       "      <th></th>\n",
       "      <th>Cost of Living Index</th>\n",
       "      <th>Rent Index</th>\n",
       "      <th>Prices</th>\n",
       "      <th>Ratings</th>\n",
       "      <th>Color</th>\n",
       "    </tr>\n",
       "    <tr>\n",
       "      <th>Cluster</th>\n",
       "      <th></th>\n",
       "      <th></th>\n",
       "      <th></th>\n",
       "      <th></th>\n",
       "      <th></th>\n",
       "    </tr>\n",
       "  </thead>\n",
       "  <tbody>\n",
       "    <tr>\n",
       "      <th>0</th>\n",
       "      <td>91.476667</td>\n",
       "      <td>59.090000</td>\n",
       "      <td>2.707407</td>\n",
       "      <td>8.699815</td>\n",
       "      <td>Yellow</td>\n",
       "    </tr>\n",
       "    <tr>\n",
       "      <th>1</th>\n",
       "      <td>60.937143</td>\n",
       "      <td>26.372857</td>\n",
       "      <td>2.225404</td>\n",
       "      <td>8.381710</td>\n",
       "      <td>Purple</td>\n",
       "    </tr>\n",
       "    <tr>\n",
       "      <th>2</th>\n",
       "      <td>92.303333</td>\n",
       "      <td>54.178333</td>\n",
       "      <td>2.175439</td>\n",
       "      <td>8.321480</td>\n",
       "      <td>Red</td>\n",
       "    </tr>\n",
       "    <tr>\n",
       "      <th>3</th>\n",
       "      <td>80.825000</td>\n",
       "      <td>38.132500</td>\n",
       "      <td>2.911842</td>\n",
       "      <td>8.313092</td>\n",
       "      <td>Blue</td>\n",
       "    </tr>\n",
       "  </tbody>\n",
       "</table>\n",
       "</div>"
      ],
      "text/plain": [
       "         Cost of Living Index  Rent Index    Prices   Ratings   Color\n",
       "Cluster                                                              \n",
       "0                   91.476667   59.090000  2.707407  8.699815  Yellow\n",
       "1                   60.937143   26.372857  2.225404  8.381710  Purple\n",
       "2                   92.303333   54.178333  2.175439  8.321480     Red\n",
       "3                   80.825000   38.132500  2.911842  8.313092    Blue"
      ]
     },
     "execution_count": 22,
     "metadata": {},
     "output_type": "execute_result"
    }
   ],
   "source": [
    "df_clusters = df_clustered2[['Cost of Living Index','Rent Index','Prices','Ratings','Cluster']].groupby(['Cluster']).mean()\n",
    "df_clusters.assign(Color = ['Yellow','Purple','Red','Blue'])"
   ]
  },
  {
   "cell_type": "code",
   "execution_count": null,
   "metadata": {},
   "outputs": [],
   "source": []
  },
  {
   "cell_type": "code",
   "execution_count": null,
   "metadata": {},
   "outputs": [],
   "source": []
  }
 ],
 "metadata": {
  "kernelspec": {
   "display_name": "Python 3",
   "language": "python",
   "name": "python3"
  },
  "language_info": {
   "codemirror_mode": {
    "name": "ipython",
    "version": 3
   },
   "file_extension": ".py",
   "mimetype": "text/x-python",
   "name": "python",
   "nbconvert_exporter": "python",
   "pygments_lexer": "ipython3",
   "version": "3.6.5"
  }
 },
 "nbformat": 4,
 "nbformat_minor": 2
}
